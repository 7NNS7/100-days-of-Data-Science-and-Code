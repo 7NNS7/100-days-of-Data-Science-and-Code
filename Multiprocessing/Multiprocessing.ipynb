{
 "cells": [
  {
   "cell_type": "code",
   "execution_count": 1,
   "metadata": {},
   "outputs": [],
   "source": [
    "import multiprocessing"
   ]
  },
  {
   "cell_type": "code",
   "execution_count": 2,
   "metadata": {},
   "outputs": [
    {
     "data": {
      "text/plain": [
       "'  recv_end, send_end = multiprocessing.Pipe(False)\\n            p = multiprocessing.Process(target=helper_fn_daily_reports, args=(devIds[i], j, c, send_end))\\n            threads.append(p)\\n            statusCheck.append(recv_end)\\n            p.start()\\n            # process = Thread(target=helper_fn_daily_reports, args=[mongo, devIds[i], j, c])\\n            # process.start()\\n            # threads.append(process)\\n        for process in threads:\\n            process.join()\\n        statusCheck = [x.recv() for x in statusCheck]'"
      ]
     },
     "execution_count": 2,
     "metadata": {},
     "output_type": "execute_result"
    }
   ],
   "source": [
    "'''  recv_end, send_end = multiprocessing.Pipe(False)\n",
    "            p = multiprocessing.Process(target=helper_fn_daily_reports, args=(devIds[i], j, c, send_end))\n",
    "            threads.append(p)\n",
    "            statusCheck.append(recv_end)\n",
    "            p.start()\n",
    "            # process = Thread(target=helper_fn_daily_reports, args=[mongo, devIds[i], j, c])\n",
    "            # process.start()\n",
    "            # threads.append(process)\n",
    "        for process in threads:\n",
    "            process.join()\n",
    "        statusCheck = [x.recv() for x in statusCheck]'''"
   ]
  },
  {
   "cell_type": "code",
   "execution_count": 6,
   "metadata": {},
   "outputs": [],
   "source": [
    "def print_cube(num):\n",
    "    print(\"Cube of \",num,\"is\",num*num*num)\n",
    "    \n",
    "def print_square(num):\n",
    "    print(\"Square is\", num*num)"
   ]
  },
  {
   "cell_type": "code",
   "execution_count": 19,
   "metadata": {},
   "outputs": [],
   "source": [
    "p1 = multiprocessing.Process(target=print_cube, args = (10,))\n",
    "p2 = multiprocessing.Process(target=print_square,args = (5,))"
   ]
  },
  {
   "cell_type": "code",
   "execution_count": 20,
   "metadata": {},
   "outputs": [
    {
     "name": "stdout",
     "output_type": "stream",
     "text": [
      "Cube of  10 is 1000\n",
      "P1 started.\n"
     ]
    },
    {
     "ename": "AttributeError",
     "evalue": "'Process' object has no attribute 'sleep'",
     "output_type": "error",
     "traceback": [
      "\u001b[0;31m---------------------------------------------------------------------------\u001b[0m",
      "\u001b[0;31mAttributeError\u001b[0m                            Traceback (most recent call last)",
      "\u001b[0;32m<ipython-input-20-6606b17a0d12>\u001b[0m in \u001b[0;36m<module>\u001b[0;34m\u001b[0m\n\u001b[1;32m      1\u001b[0m \u001b[0mp1\u001b[0m\u001b[0;34m.\u001b[0m\u001b[0mstart\u001b[0m\u001b[0;34m(\u001b[0m\u001b[0;34m)\u001b[0m\u001b[0;34m\u001b[0m\u001b[0;34m\u001b[0m\u001b[0m\n\u001b[1;32m      2\u001b[0m \u001b[0mprint\u001b[0m\u001b[0;34m(\u001b[0m\u001b[0;34m'P1 started.'\u001b[0m\u001b[0;34m)\u001b[0m\u001b[0;34m\u001b[0m\u001b[0;34m\u001b[0m\u001b[0m\n\u001b[0;32m----> 3\u001b[0;31m \u001b[0mp1\u001b[0m\u001b[0;34m.\u001b[0m\u001b[0msleep\u001b[0m\u001b[0;34m(\u001b[0m\u001b[0;36m10000\u001b[0m\u001b[0;34m)\u001b[0m\u001b[0;34m\u001b[0m\u001b[0;34m\u001b[0m\u001b[0m\n\u001b[0m\u001b[1;32m      4\u001b[0m \u001b[0mp2\u001b[0m\u001b[0;34m.\u001b[0m\u001b[0mstart\u001b[0m\u001b[0;34m(\u001b[0m\u001b[0;34m)\u001b[0m\u001b[0;34m\u001b[0m\u001b[0;34m\u001b[0m\u001b[0m\n\u001b[1;32m      5\u001b[0m \u001b[0mprint\u001b[0m\u001b[0;34m(\u001b[0m\u001b[0;34m'P2 started.'\u001b[0m\u001b[0;34m)\u001b[0m\u001b[0;34m\u001b[0m\u001b[0;34m\u001b[0m\u001b[0m\n",
      "\u001b[0;31mAttributeError\u001b[0m: 'Process' object has no attribute 'sleep'"
     ]
    }
   ],
   "source": [
    "p1.start()\n",
    "print('P1 started.')\n",
    "p1.sleep(10000)\n",
    "p2.start()\n",
    "print('P2 started.')\n",
    "p1.join()\n",
    "print('P1 joined.')\n",
    "p2.join()\n",
    "print('P2 joined.')\n",
    "p1.kill()\n",
    "p2.kill()\n",
    "print('Both process are killed.')"
   ]
  },
  {
   "cell_type": "code",
   "execution_count": 13,
   "metadata": {},
   "outputs": [],
   "source": []
  },
  {
   "cell_type": "code",
   "execution_count": null,
   "metadata": {},
   "outputs": [],
   "source": []
  }
 ],
 "metadata": {
  "kernelspec": {
   "display_name": "Python 3",
   "language": "python",
   "name": "python3"
  },
  "language_info": {
   "codemirror_mode": {
    "name": "ipython",
    "version": 3
   },
   "file_extension": ".py",
   "mimetype": "text/x-python",
   "name": "python",
   "nbconvert_exporter": "python",
   "pygments_lexer": "ipython3",
   "version": "3.7.4"
  }
 },
 "nbformat": 4,
 "nbformat_minor": 2
}

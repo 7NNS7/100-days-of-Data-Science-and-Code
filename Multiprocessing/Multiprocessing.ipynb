{
 "cells": [
  {
   "cell_type": "markdown",
   "metadata": {},
   "source": [
    "# Basics of Multiprocesssing"
   ]
  },
  {
   "cell_type": "code",
   "execution_count": 1,
   "metadata": {},
   "outputs": [],
   "source": [
    "import multiprocessing"
   ]
  },
  {
   "cell_type": "code",
   "execution_count": 2,
   "metadata": {},
   "outputs": [
    {
     "data": {
      "text/plain": [
       "'  recv_end, send_end = multiprocessing.Pipe(False)\\n            p = multiprocessing.Process(target=helper_fn_daily_reports, args=(devIds[i], j, c, send_end))\\n            threads.append(p)\\n            statusCheck.append(recv_end)\\n            p.start()\\n            # process = Thread(target=helper_fn_daily_reports, args=[mongo, devIds[i], j, c])\\n            # process.start()\\n            # threads.append(process)\\n        for process in threads:\\n            process.join()\\n        statusCheck = [x.recv() for x in statusCheck]'"
      ]
     },
     "execution_count": 2,
     "metadata": {},
     "output_type": "execute_result"
    }
   ],
   "source": [
    "'''  recv_end, send_end = multiprocessing.Pipe(False)\n",
    "            p = multiprocessing.Process(target=helper_fn_daily_reports, args=(devIds[i], j, c, send_end))\n",
    "            threads.append(p)\n",
    "            statusCheck.append(recv_end)\n",
    "            p.start()\n",
    "            # process = Thread(target=helper_fn_daily_reports, args=[mongo, devIds[i], j, c])\n",
    "            # process.start()\n",
    "            # threads.append(process)\n",
    "        for process in threads:\n",
    "            process.join()\n",
    "        statusCheck = [x.recv() for x in statusCheck]'''"
   ]
  },
  {
   "cell_type": "code",
   "execution_count": 6,
   "metadata": {},
   "outputs": [],
   "source": [
    "def print_cube(num):\n",
    "    print(\"Cube of \",num,\"is\",num*num*num)\n",
    "    \n",
    "def print_square(num):\n",
    "    print(\"Square is\", num*num)"
   ]
  },
  {
   "cell_type": "code",
   "execution_count": 22,
   "metadata": {},
   "outputs": [
    {
     "name": "stdout",
     "output_type": "stream",
     "text": [
      "P1 started.\n",
      "Cube of  10 is 1000\n",
      "Square is 25\n",
      "P2 started.\n",
      "P1 joined.\n",
      "P2 joined.\n",
      "Both process are killed.\n"
     ]
    }
   ],
   "source": [
    "p1 = multiprocessing.Process(target=print_cube, args = (10,))\n",
    "p2 = multiprocessing.Process(target=print_square,args = (5,))\n",
    "p1.start()\n",
    "print('P1 started.')\n",
    "p2.start()\n",
    "print('P2 started.')\n",
    "p1.join()\n",
    "print('P1 joined.')\n",
    "p2.join()\n",
    "print('P2 joined.')\n",
    "p1.kill()\n",
    "p2.kill()\n",
    "print('Both process are killed.')"
   ]
  },
  {
   "cell_type": "markdown",
   "metadata": {},
   "source": [
    "# Sharing memory between processes"
   ]
  },
  {
   "cell_type": "code",
   "execution_count": 34,
   "metadata": {},
   "outputs": [],
   "source": [
    "value = multiprocessing.Value('c')"
   ]
  },
  {
   "cell_type": "code",
   "execution_count": 44,
   "metadata": {},
   "outputs": [],
   "source": [
    "def add(a,b,value):\n",
    "    value = a+b\n",
    "    print(value)\n",
    "\n",
    "def multiplyValue(value):\n",
    "    print(value.value)\n",
    "\n",
    "p1 = multiprocessing.Process(target = add,args = (5,2,value,))\n",
    "p2 = multiprocessing.Process(target = multiplyValue,args = (value,))"
   ]
  },
  {
   "cell_type": "code",
   "execution_count": 45,
   "metadata": {},
   "outputs": [
    {
     "name": "stdout",
     "output_type": "stream",
     "text": [
      "7\n"
     ]
    }
   ],
   "source": [
    "p1.start()"
   ]
  },
  {
   "cell_type": "code",
   "execution_count": 46,
   "metadata": {},
   "outputs": [
    {
     "name": "stdout",
     "output_type": "stream",
     "text": [
      "b'\\x00'\n"
     ]
    }
   ],
   "source": [
    "p2.start()"
   ]
  },
  {
   "cell_type": "code",
   "execution_count": 47,
   "metadata": {},
   "outputs": [],
   "source": [
    "l = {}\n"
   ]
  },
  {
   "cell_type": "code",
   "execution_count": 48,
   "metadata": {},
   "outputs": [
    {
     "data": {
      "text/plain": [
       "0"
      ]
     },
     "execution_count": 48,
     "metadata": {},
     "output_type": "execute_result"
    }
   ],
   "source": [
    "len(l)"
   ]
  },
  {
   "cell_type": "code",
   "execution_count": null,
   "metadata": {},
   "outputs": [],
   "source": []
  }
 ],
 "metadata": {
  "kernelspec": {
   "display_name": "Python 3",
   "language": "python",
   "name": "python3"
  },
  "language_info": {
   "codemirror_mode": {
    "name": "ipython",
    "version": 3
   },
   "file_extension": ".py",
   "mimetype": "text/x-python",
   "name": "python",
   "nbconvert_exporter": "python",
   "pygments_lexer": "ipython3",
   "version": "3.7.4"
  }
 },
 "nbformat": 4,
 "nbformat_minor": 2
}

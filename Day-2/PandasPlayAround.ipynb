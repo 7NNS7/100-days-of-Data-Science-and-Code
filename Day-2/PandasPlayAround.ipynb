{
 "cells": [
  {
   "cell_type": "markdown",
   "metadata": {},
   "source": [
    "# Playing with pandas\n"
   ]
  },
  {
   "cell_type": "code",
   "execution_count": 1,
   "metadata": {},
   "outputs": [],
   "source": [
    "import pandas as pd\n",
    "import numpy as np"
   ]
  },
  {
   "cell_type": "code",
   "execution_count": 2,
   "metadata": {},
   "outputs": [],
   "source": [
    "df = pd.Series([1,2,3,4])"
   ]
  },
  {
   "cell_type": "code",
   "execution_count": 3,
   "metadata": {},
   "outputs": [
    {
     "data": {
      "text/plain": [
       "0    1\n",
       "1    2\n",
       "2    3\n",
       "3    4\n",
       "dtype: int64"
      ]
     },
     "execution_count": 3,
     "metadata": {},
     "output_type": "execute_result"
    }
   ],
   "source": [
    "df"
   ]
  },
  {
   "cell_type": "code",
   "execution_count": 4,
   "metadata": {},
   "outputs": [],
   "source": [
    "#Read csv\n",
    "df = pd.read_csv('Car_sales.csv')"
   ]
  },
  {
   "cell_type": "code",
   "execution_count": 5,
   "metadata": {},
   "outputs": [
    {
     "data": {
      "text/html": [
       "<div>\n",
       "<style scoped>\n",
       "    .dataframe tbody tr th:only-of-type {\n",
       "        vertical-align: middle;\n",
       "    }\n",
       "\n",
       "    .dataframe tbody tr th {\n",
       "        vertical-align: top;\n",
       "    }\n",
       "\n",
       "    .dataframe thead th {\n",
       "        text-align: right;\n",
       "    }\n",
       "</style>\n",
       "<table border=\"1\" class=\"dataframe\">\n",
       "  <thead>\n",
       "    <tr style=\"text-align: right;\">\n",
       "      <th></th>\n",
       "      <th>Manufacturer</th>\n",
       "      <th>Model</th>\n",
       "      <th>Sales in thousands</th>\n",
       "      <th>4-year resale value</th>\n",
       "      <th>Vehicle type</th>\n",
       "      <th>Price in thousands</th>\n",
       "      <th>Engine size</th>\n",
       "      <th>Horsepower</th>\n",
       "      <th>Wheelbase</th>\n",
       "      <th>Width</th>\n",
       "      <th>Length</th>\n",
       "      <th>Curb weight</th>\n",
       "      <th>Fuel capacity</th>\n",
       "      <th>Fuel efficiency</th>\n",
       "      <th>Latest Launch</th>\n",
       "    </tr>\n",
       "  </thead>\n",
       "  <tbody>\n",
       "    <tr>\n",
       "      <th>0</th>\n",
       "      <td>Acura</td>\n",
       "      <td>Integra</td>\n",
       "      <td>16.919</td>\n",
       "      <td>16.36</td>\n",
       "      <td>Passenger</td>\n",
       "      <td>21.5</td>\n",
       "      <td>1.8</td>\n",
       "      <td>140</td>\n",
       "      <td>101.2</td>\n",
       "      <td>67.3</td>\n",
       "      <td>172.4</td>\n",
       "      <td>2.639</td>\n",
       "      <td>13.2</td>\n",
       "      <td>28</td>\n",
       "      <td>2-Feb-14</td>\n",
       "    </tr>\n",
       "    <tr>\n",
       "      <th>1</th>\n",
       "      <td>Acura</td>\n",
       "      <td>TL</td>\n",
       "      <td>39.384</td>\n",
       "      <td>19.875</td>\n",
       "      <td>Passenger</td>\n",
       "      <td>28.4</td>\n",
       "      <td>3.2</td>\n",
       "      <td>225</td>\n",
       "      <td>108.1</td>\n",
       "      <td>70.3</td>\n",
       "      <td>192.9</td>\n",
       "      <td>3.517</td>\n",
       "      <td>17.2</td>\n",
       "      <td>25</td>\n",
       "      <td>6-Mar-15</td>\n",
       "    </tr>\n",
       "    <tr>\n",
       "      <th>2</th>\n",
       "      <td>Acura</td>\n",
       "      <td>CL</td>\n",
       "      <td>14.114</td>\n",
       "      <td>18.225</td>\n",
       "      <td>Passenger</td>\n",
       "      <td>.</td>\n",
       "      <td>3.2</td>\n",
       "      <td>225</td>\n",
       "      <td>106.9</td>\n",
       "      <td>70.6</td>\n",
       "      <td>192</td>\n",
       "      <td>3.47</td>\n",
       "      <td>17.2</td>\n",
       "      <td>26</td>\n",
       "      <td>1-Apr-14</td>\n",
       "    </tr>\n",
       "    <tr>\n",
       "      <th>3</th>\n",
       "      <td>Acura</td>\n",
       "      <td>RL</td>\n",
       "      <td>8.588</td>\n",
       "      <td>29.725</td>\n",
       "      <td>Passenger</td>\n",
       "      <td>42</td>\n",
       "      <td>3.5</td>\n",
       "      <td>210</td>\n",
       "      <td>114.6</td>\n",
       "      <td>71.4</td>\n",
       "      <td>196.6</td>\n",
       "      <td>3.85</td>\n",
       "      <td>18</td>\n",
       "      <td>22</td>\n",
       "      <td>3-Oct-15</td>\n",
       "    </tr>\n",
       "    <tr>\n",
       "      <th>4</th>\n",
       "      <td>Audi</td>\n",
       "      <td>A4</td>\n",
       "      <td>20.397</td>\n",
       "      <td>22.255</td>\n",
       "      <td>Passenger</td>\n",
       "      <td>23.99</td>\n",
       "      <td>1.8</td>\n",
       "      <td>150</td>\n",
       "      <td>102.6</td>\n",
       "      <td>68.2</td>\n",
       "      <td>178</td>\n",
       "      <td>2.998</td>\n",
       "      <td>16.4</td>\n",
       "      <td>27</td>\n",
       "      <td>10-Aug-15</td>\n",
       "    </tr>\n",
       "  </tbody>\n",
       "</table>\n",
       "</div>"
      ],
      "text/plain": [
       "    Manufacturer              Model  Sales in thousands 4-year resale value  \\\n",
       "0  Acura          Integra                        16.919               16.36   \n",
       "1  Acura          TL                             39.384              19.875   \n",
       "2  Acura          CL                             14.114              18.225   \n",
       "3  Acura          RL                              8.588              29.725   \n",
       "4  Audi           A4                             20.397              22.255   \n",
       "\n",
       "  Vehicle type Price in thousands Engine size Horsepower Wheelbase Width  \\\n",
       "0    Passenger               21.5         1.8        140     101.2  67.3   \n",
       "1    Passenger               28.4         3.2        225     108.1  70.3   \n",
       "2    Passenger                  .         3.2        225     106.9  70.6   \n",
       "3    Passenger                 42         3.5        210     114.6  71.4   \n",
       "4    Passenger              23.99         1.8        150     102.6  68.2   \n",
       "\n",
       "  Length Curb weight Fuel capacity Fuel efficiency Latest Launch  \n",
       "0  172.4       2.639          13.2              28      2-Feb-14  \n",
       "1  192.9       3.517          17.2              25      6-Mar-15  \n",
       "2    192        3.47          17.2              26      1-Apr-14  \n",
       "3  196.6        3.85            18              22      3-Oct-15  \n",
       "4    178       2.998          16.4              27     10-Aug-15  "
      ]
     },
     "execution_count": 5,
     "metadata": {},
     "output_type": "execute_result"
    }
   ],
   "source": [
    "#First 5 rows default\n",
    "df.head()"
   ]
  },
  {
   "cell_type": "code",
   "execution_count": 6,
   "metadata": {},
   "outputs": [
    {
     "data": {
      "text/html": [
       "<div>\n",
       "<style scoped>\n",
       "    .dataframe tbody tr th:only-of-type {\n",
       "        vertical-align: middle;\n",
       "    }\n",
       "\n",
       "    .dataframe tbody tr th {\n",
       "        vertical-align: top;\n",
       "    }\n",
       "\n",
       "    .dataframe thead th {\n",
       "        text-align: right;\n",
       "    }\n",
       "</style>\n",
       "<table border=\"1\" class=\"dataframe\">\n",
       "  <thead>\n",
       "    <tr style=\"text-align: right;\">\n",
       "      <th></th>\n",
       "      <th>Manufacturer</th>\n",
       "      <th>Model</th>\n",
       "      <th>Sales in thousands</th>\n",
       "      <th>4-year resale value</th>\n",
       "      <th>Vehicle type</th>\n",
       "      <th>Price in thousands</th>\n",
       "      <th>Engine size</th>\n",
       "      <th>Horsepower</th>\n",
       "      <th>Wheelbase</th>\n",
       "      <th>Width</th>\n",
       "      <th>Length</th>\n",
       "      <th>Curb weight</th>\n",
       "      <th>Fuel capacity</th>\n",
       "      <th>Fuel efficiency</th>\n",
       "      <th>Latest Launch</th>\n",
       "    </tr>\n",
       "  </thead>\n",
       "  <tbody>\n",
       "    <tr>\n",
       "      <th>152</th>\n",
       "      <td>Volvo</td>\n",
       "      <td>V40</td>\n",
       "      <td>3.545</td>\n",
       "      <td>.</td>\n",
       "      <td>Passenger</td>\n",
       "      <td>24.4</td>\n",
       "      <td>1.9</td>\n",
       "      <td>160</td>\n",
       "      <td>100.5</td>\n",
       "      <td>67.6</td>\n",
       "      <td>176.6</td>\n",
       "      <td>3.042</td>\n",
       "      <td>15.8</td>\n",
       "      <td>25</td>\n",
       "      <td>21-Sep-15</td>\n",
       "    </tr>\n",
       "    <tr>\n",
       "      <th>153</th>\n",
       "      <td>Volvo</td>\n",
       "      <td>S70</td>\n",
       "      <td>15.245</td>\n",
       "      <td>.</td>\n",
       "      <td>Passenger</td>\n",
       "      <td>27.5</td>\n",
       "      <td>2.4</td>\n",
       "      <td>168</td>\n",
       "      <td>104.9</td>\n",
       "      <td>69.3</td>\n",
       "      <td>185.9</td>\n",
       "      <td>3.208</td>\n",
       "      <td>17.9</td>\n",
       "      <td>25</td>\n",
       "      <td>24-Nov-14</td>\n",
       "    </tr>\n",
       "    <tr>\n",
       "      <th>154</th>\n",
       "      <td>Volvo</td>\n",
       "      <td>V70</td>\n",
       "      <td>17.531</td>\n",
       "      <td>.</td>\n",
       "      <td>Passenger</td>\n",
       "      <td>28.8</td>\n",
       "      <td>2.4</td>\n",
       "      <td>168</td>\n",
       "      <td>104.9</td>\n",
       "      <td>69.3</td>\n",
       "      <td>186.2</td>\n",
       "      <td>3.259</td>\n",
       "      <td>17.9</td>\n",
       "      <td>25</td>\n",
       "      <td>25-Jun-15</td>\n",
       "    </tr>\n",
       "    <tr>\n",
       "      <th>155</th>\n",
       "      <td>Volvo</td>\n",
       "      <td>C70</td>\n",
       "      <td>3.493</td>\n",
       "      <td>.</td>\n",
       "      <td>Passenger</td>\n",
       "      <td>45.5</td>\n",
       "      <td>2.3</td>\n",
       "      <td>236</td>\n",
       "      <td>104.9</td>\n",
       "      <td>71.5</td>\n",
       "      <td>185.7</td>\n",
       "      <td>3.601</td>\n",
       "      <td>18.5</td>\n",
       "      <td>23</td>\n",
       "      <td>26-Apr-15</td>\n",
       "    </tr>\n",
       "    <tr>\n",
       "      <th>156</th>\n",
       "      <td>Volvo</td>\n",
       "      <td>S80</td>\n",
       "      <td>18.969</td>\n",
       "      <td>.</td>\n",
       "      <td>Passenger</td>\n",
       "      <td>36</td>\n",
       "      <td>2.9</td>\n",
       "      <td>201</td>\n",
       "      <td>109.9</td>\n",
       "      <td>72.1</td>\n",
       "      <td>189.8</td>\n",
       "      <td>3.6</td>\n",
       "      <td>21.1</td>\n",
       "      <td>24</td>\n",
       "      <td>14-Nov-15</td>\n",
       "    </tr>\n",
       "  </tbody>\n",
       "</table>\n",
       "</div>"
      ],
      "text/plain": [
       "      Manufacturer              Model  Sales in thousands 4-year resale value  \\\n",
       "152  Volvo          V40                             3.545                   .   \n",
       "153  Volvo          S70                            15.245                   .   \n",
       "154  Volvo          V70                            17.531                   .   \n",
       "155  Volvo          C70                             3.493                   .   \n",
       "156  Volvo          S80                            18.969                   .   \n",
       "\n",
       "    Vehicle type Price in thousands Engine size Horsepower Wheelbase Width  \\\n",
       "152    Passenger               24.4         1.9        160     100.5  67.6   \n",
       "153    Passenger               27.5         2.4        168     104.9  69.3   \n",
       "154    Passenger               28.8         2.4        168     104.9  69.3   \n",
       "155    Passenger               45.5         2.3        236     104.9  71.5   \n",
       "156    Passenger                 36         2.9        201     109.9  72.1   \n",
       "\n",
       "    Length Curb weight Fuel capacity Fuel efficiency Latest Launch  \n",
       "152  176.6       3.042          15.8              25     21-Sep-15  \n",
       "153  185.9       3.208          17.9              25     24-Nov-14  \n",
       "154  186.2       3.259          17.9              25     25-Jun-15  \n",
       "155  185.7       3.601          18.5              23     26-Apr-15  \n",
       "156  189.8         3.6          21.1              24     14-Nov-15  "
      ]
     },
     "execution_count": 6,
     "metadata": {},
     "output_type": "execute_result"
    }
   ],
   "source": [
    "#Last 5 rows\n",
    "df.tail()"
   ]
  },
  {
   "cell_type": "code",
   "execution_count": 7,
   "metadata": {},
   "outputs": [
    {
     "data": {
      "text/plain": [
       "Manufacturer            object\n",
       "Model                   object\n",
       "Sales in thousands     float64\n",
       "4-year resale value     object\n",
       "Vehicle type            object\n",
       "Price in thousands      object\n",
       "Engine size             object\n",
       "Horsepower              object\n",
       "Wheelbase               object\n",
       "Width                   object\n",
       "Length                  object\n",
       "Curb weight             object\n",
       "Fuel capacity           object\n",
       "Fuel efficiency         object\n",
       "Latest Launch           object\n",
       "dtype: object"
      ]
     },
     "execution_count": 7,
     "metadata": {},
     "output_type": "execute_result"
    }
   ],
   "source": [
    "#Data types of all values\n",
    "df.dtypes"
   ]
  },
  {
   "cell_type": "code",
   "execution_count": 8,
   "metadata": {},
   "outputs": [
    {
     "data": {
      "text/html": [
       "<div>\n",
       "<style scoped>\n",
       "    .dataframe tbody tr th:only-of-type {\n",
       "        vertical-align: middle;\n",
       "    }\n",
       "\n",
       "    .dataframe tbody tr th {\n",
       "        vertical-align: top;\n",
       "    }\n",
       "\n",
       "    .dataframe thead th {\n",
       "        text-align: right;\n",
       "    }\n",
       "</style>\n",
       "<table border=\"1\" class=\"dataframe\">\n",
       "  <thead>\n",
       "    <tr style=\"text-align: right;\">\n",
       "      <th></th>\n",
       "      <th>Sales in thousands</th>\n",
       "    </tr>\n",
       "  </thead>\n",
       "  <tbody>\n",
       "    <tr>\n",
       "      <th>count</th>\n",
       "      <td>157.000000</td>\n",
       "    </tr>\n",
       "    <tr>\n",
       "      <th>mean</th>\n",
       "      <td>52.998076</td>\n",
       "    </tr>\n",
       "    <tr>\n",
       "      <th>std</th>\n",
       "      <td>68.029422</td>\n",
       "    </tr>\n",
       "    <tr>\n",
       "      <th>min</th>\n",
       "      <td>0.110000</td>\n",
       "    </tr>\n",
       "    <tr>\n",
       "      <th>25%</th>\n",
       "      <td>14.114000</td>\n",
       "    </tr>\n",
       "    <tr>\n",
       "      <th>50%</th>\n",
       "      <td>29.450000</td>\n",
       "    </tr>\n",
       "    <tr>\n",
       "      <th>75%</th>\n",
       "      <td>67.956000</td>\n",
       "    </tr>\n",
       "    <tr>\n",
       "      <th>max</th>\n",
       "      <td>540.561000</td>\n",
       "    </tr>\n",
       "  </tbody>\n",
       "</table>\n",
       "</div>"
      ],
      "text/plain": [
       "       Sales in thousands\n",
       "count          157.000000\n",
       "mean            52.998076\n",
       "std             68.029422\n",
       "min              0.110000\n",
       "25%             14.114000\n",
       "50%             29.450000\n",
       "75%             67.956000\n",
       "max            540.561000"
      ]
     },
     "execution_count": 8,
     "metadata": {},
     "output_type": "execute_result"
    }
   ],
   "source": [
    "df.describe()"
   ]
  },
  {
   "cell_type": "code",
   "execution_count": 9,
   "metadata": {},
   "outputs": [
    {
     "data": {
      "text/plain": [
       "Index(['Manufacturer', 'Model', 'Sales in thousands', '4-year resale value',\n",
       "       'Vehicle type', 'Price in thousands', 'Engine size', 'Horsepower',\n",
       "       'Wheelbase', 'Width', 'Length', 'Curb weight', 'Fuel capacity',\n",
       "       'Fuel efficiency', 'Latest Launch'],\n",
       "      dtype='object')"
      ]
     },
     "execution_count": 9,
     "metadata": {},
     "output_type": "execute_result"
    }
   ],
   "source": [
    "#Print all columns of the dataframe\n",
    "df.columns"
   ]
  },
  {
   "cell_type": "code",
   "execution_count": 10,
   "metadata": {},
   "outputs": [
    {
     "data": {
      "text/plain": [
       "0      Acura        \n",
       "1      Acura        \n",
       "2      Acura        \n",
       "3      Acura        \n",
       "4      Audi         \n",
       "           ...      \n",
       "152    Volvo        \n",
       "153    Volvo        \n",
       "154    Volvo        \n",
       "155    Volvo        \n",
       "156    Volvo        \n",
       "Name: Manufacturer, Length: 157, dtype: object"
      ]
     },
     "execution_count": 10,
     "metadata": {},
     "output_type": "execute_result"
    }
   ],
   "source": [
    "#View single column\n",
    "df['Manufacturer']"
   ]
  },
  {
   "cell_type": "code",
   "execution_count": 11,
   "metadata": {},
   "outputs": [
    {
     "data": {
      "text/plain": [
       "array(['Acura        ', 'Audi         ', 'BMW          ', 'Buick        ',\n",
       "       'Cadillac     ', 'Chevrolet    ', 'Chrysler     ', 'Dodge        ',\n",
       "       'Ford         ', 'Honda        ', 'Hyundai      ', 'Infiniti     ',\n",
       "       'Jaguar       ', 'Jeep         ', 'Lexus        ', 'Lincoln      ',\n",
       "       'Mitsubishi   ', 'Mercury      ', 'Mercedes-Benz', 'Nissan       ',\n",
       "       'Oldsmobile   ', 'Plymouth     ', 'Pontiac      ', 'Porsche      ',\n",
       "       'Saab         ', 'Saturn       ', 'Subaru       ', 'Toyota       ',\n",
       "       'Volkswagen   ', 'Volvo        '], dtype=object)"
      ]
     },
     "execution_count": 11,
     "metadata": {},
     "output_type": "execute_result"
    }
   ],
   "source": [
    "#Unique values in the column\n",
    "df['Manufacturer'].unique()"
   ]
  },
  {
   "cell_type": "code",
   "execution_count": 12,
   "metadata": {},
   "outputs": [
    {
     "data": {
      "text/plain": [
       "Manufacturer           0\n",
       "Model                  0\n",
       "Sales in thousands     0\n",
       "4-year resale value    0\n",
       "Vehicle type           0\n",
       "Price in thousands     0\n",
       "Engine size            0\n",
       "Horsepower             0\n",
       "Wheelbase              0\n",
       "Width                  0\n",
       "Length                 0\n",
       "Curb weight            0\n",
       "Fuel capacity          0\n",
       "Fuel efficiency        0\n",
       "Latest Launch          0\n",
       "dtype: int64"
      ]
     },
     "execution_count": 12,
     "metadata": {},
     "output_type": "execute_result"
    }
   ],
   "source": [
    "#Check how many null values each column has\n",
    "df.isnull().sum()"
   ]
  },
  {
   "cell_type": "code",
   "execution_count": 13,
   "metadata": {},
   "outputs": [],
   "source": [
    "#Rename a column\n",
    "df.rename(columns = {'Price in thousands':'Price'},inplace = True)"
   ]
  },
  {
   "cell_type": "code",
   "execution_count": 14,
   "metadata": {},
   "outputs": [
    {
     "data": {
      "text/html": [
       "<div>\n",
       "<style scoped>\n",
       "    .dataframe tbody tr th:only-of-type {\n",
       "        vertical-align: middle;\n",
       "    }\n",
       "\n",
       "    .dataframe tbody tr th {\n",
       "        vertical-align: top;\n",
       "    }\n",
       "\n",
       "    .dataframe thead th {\n",
       "        text-align: right;\n",
       "    }\n",
       "</style>\n",
       "<table border=\"1\" class=\"dataframe\">\n",
       "  <thead>\n",
       "    <tr style=\"text-align: right;\">\n",
       "      <th></th>\n",
       "      <th>Manufacturer</th>\n",
       "      <th>Model</th>\n",
       "      <th>Sales in thousands</th>\n",
       "      <th>4-year resale value</th>\n",
       "      <th>Vehicle type</th>\n",
       "      <th>Price</th>\n",
       "      <th>Engine size</th>\n",
       "      <th>Horsepower</th>\n",
       "      <th>Wheelbase</th>\n",
       "      <th>Width</th>\n",
       "      <th>Length</th>\n",
       "      <th>Curb weight</th>\n",
       "      <th>Fuel capacity</th>\n",
       "      <th>Fuel efficiency</th>\n",
       "      <th>Latest Launch</th>\n",
       "    </tr>\n",
       "  </thead>\n",
       "  <tbody>\n",
       "    <tr>\n",
       "      <th>0</th>\n",
       "      <td>Acura</td>\n",
       "      <td>Integra</td>\n",
       "      <td>16.919</td>\n",
       "      <td>16.36</td>\n",
       "      <td>Passenger</td>\n",
       "      <td>21.5</td>\n",
       "      <td>1.8</td>\n",
       "      <td>140</td>\n",
       "      <td>101.2</td>\n",
       "      <td>67.3</td>\n",
       "      <td>172.4</td>\n",
       "      <td>2.639</td>\n",
       "      <td>13.2</td>\n",
       "      <td>28</td>\n",
       "      <td>2-Feb-14</td>\n",
       "    </tr>\n",
       "    <tr>\n",
       "      <th>1</th>\n",
       "      <td>Acura</td>\n",
       "      <td>TL</td>\n",
       "      <td>39.384</td>\n",
       "      <td>19.875</td>\n",
       "      <td>Passenger</td>\n",
       "      <td>28.4</td>\n",
       "      <td>3.2</td>\n",
       "      <td>225</td>\n",
       "      <td>108.1</td>\n",
       "      <td>70.3</td>\n",
       "      <td>192.9</td>\n",
       "      <td>3.517</td>\n",
       "      <td>17.2</td>\n",
       "      <td>25</td>\n",
       "      <td>6-Mar-15</td>\n",
       "    </tr>\n",
       "    <tr>\n",
       "      <th>2</th>\n",
       "      <td>Acura</td>\n",
       "      <td>CL</td>\n",
       "      <td>14.114</td>\n",
       "      <td>18.225</td>\n",
       "      <td>Passenger</td>\n",
       "      <td>.</td>\n",
       "      <td>3.2</td>\n",
       "      <td>225</td>\n",
       "      <td>106.9</td>\n",
       "      <td>70.6</td>\n",
       "      <td>192</td>\n",
       "      <td>3.47</td>\n",
       "      <td>17.2</td>\n",
       "      <td>26</td>\n",
       "      <td>1-Apr-14</td>\n",
       "    </tr>\n",
       "    <tr>\n",
       "      <th>3</th>\n",
       "      <td>Acura</td>\n",
       "      <td>RL</td>\n",
       "      <td>8.588</td>\n",
       "      <td>29.725</td>\n",
       "      <td>Passenger</td>\n",
       "      <td>42</td>\n",
       "      <td>3.5</td>\n",
       "      <td>210</td>\n",
       "      <td>114.6</td>\n",
       "      <td>71.4</td>\n",
       "      <td>196.6</td>\n",
       "      <td>3.85</td>\n",
       "      <td>18</td>\n",
       "      <td>22</td>\n",
       "      <td>3-Oct-15</td>\n",
       "    </tr>\n",
       "    <tr>\n",
       "      <th>4</th>\n",
       "      <td>Audi</td>\n",
       "      <td>A4</td>\n",
       "      <td>20.397</td>\n",
       "      <td>22.255</td>\n",
       "      <td>Passenger</td>\n",
       "      <td>23.99</td>\n",
       "      <td>1.8</td>\n",
       "      <td>150</td>\n",
       "      <td>102.6</td>\n",
       "      <td>68.2</td>\n",
       "      <td>178</td>\n",
       "      <td>2.998</td>\n",
       "      <td>16.4</td>\n",
       "      <td>27</td>\n",
       "      <td>10-Aug-15</td>\n",
       "    </tr>\n",
       "  </tbody>\n",
       "</table>\n",
       "</div>"
      ],
      "text/plain": [
       "    Manufacturer              Model  Sales in thousands 4-year resale value  \\\n",
       "0  Acura          Integra                        16.919               16.36   \n",
       "1  Acura          TL                             39.384              19.875   \n",
       "2  Acura          CL                             14.114              18.225   \n",
       "3  Acura          RL                              8.588              29.725   \n",
       "4  Audi           A4                             20.397              22.255   \n",
       "\n",
       "  Vehicle type  Price Engine size Horsepower Wheelbase Width Length  \\\n",
       "0    Passenger   21.5         1.8        140     101.2  67.3  172.4   \n",
       "1    Passenger   28.4         3.2        225     108.1  70.3  192.9   \n",
       "2    Passenger      .         3.2        225     106.9  70.6    192   \n",
       "3    Passenger     42         3.5        210     114.6  71.4  196.6   \n",
       "4    Passenger  23.99         1.8        150     102.6  68.2    178   \n",
       "\n",
       "  Curb weight Fuel capacity Fuel efficiency Latest Launch  \n",
       "0       2.639          13.2              28      2-Feb-14  \n",
       "1       3.517          17.2              25      6-Mar-15  \n",
       "2        3.47          17.2              26      1-Apr-14  \n",
       "3        3.85            18              22      3-Oct-15  \n",
       "4       2.998          16.4              27     10-Aug-15  "
      ]
     },
     "execution_count": 14,
     "metadata": {},
     "output_type": "execute_result"
    }
   ],
   "source": [
    "#See reflected changes\n",
    "df.head()"
   ]
  },
  {
   "cell_type": "code",
   "execution_count": 15,
   "metadata": {},
   "outputs": [],
   "source": [
    "df[df['Price']==\".\"] = np.nan\n",
    "#As there are some \".\" which are strings and can't be converted to float"
   ]
  },
  {
   "cell_type": "code",
   "execution_count": 16,
   "metadata": {},
   "outputs": [],
   "source": [
    "#Convert to float to calc sum\n",
    "df['Price'] = df['Price'].astype(float)"
   ]
  },
  {
   "cell_type": "code",
   "execution_count": 17,
   "metadata": {},
   "outputs": [
    {
     "data": {
      "text/plain": [
       "4245.567000000001"
      ]
     },
     "execution_count": 17,
     "metadata": {},
     "output_type": "execute_result"
    }
   ],
   "source": [
    "#Sum of the column\n",
    "df['Price'].sum()"
   ]
  },
  {
   "cell_type": "code",
   "execution_count": 18,
   "metadata": {},
   "outputs": [
    {
     "data": {
      "text/plain": [
       "array(['Passenger', nan, 'Car'], dtype=object)"
      ]
     },
     "execution_count": 18,
     "metadata": {},
     "output_type": "execute_result"
    }
   ],
   "source": [
    "df['Vehicle type'].unique()"
   ]
  },
  {
   "cell_type": "code",
   "execution_count": 19,
   "metadata": {},
   "outputs": [
    {
     "data": {
      "text/plain": [
       "0      Passenger\n",
       "1      Passenger\n",
       "2            NaN\n",
       "3      Passenger\n",
       "4      Passenger\n",
       "         ...    \n",
       "152    Passenger\n",
       "153    Passenger\n",
       "154    Passenger\n",
       "155    Passenger\n",
       "156    Passenger\n",
       "Name: Vehicle type, Length: 157, dtype: object"
      ]
     },
     "execution_count": 19,
     "metadata": {},
     "output_type": "execute_result"
    }
   ],
   "source": [
    "df['Vehicle type']"
   ]
  },
  {
   "cell_type": "code",
   "execution_count": 20,
   "metadata": {},
   "outputs": [
    {
     "data": {
      "text/plain": [
       "float"
      ]
     },
     "execution_count": 20,
     "metadata": {},
     "output_type": "execute_result"
    }
   ],
   "source": [
    "type(df['Vehicle type'][2])"
   ]
  },
  {
   "cell_type": "code",
   "execution_count": 21,
   "metadata": {},
   "outputs": [],
   "source": [
    "df['Vehicle type'] = df['Vehicle type'].astype(str)"
   ]
  },
  {
   "cell_type": "code",
   "execution_count": 22,
   "metadata": {},
   "outputs": [],
   "source": [
    "del df['Vehicle type'][2]"
   ]
  },
  {
   "cell_type": "code",
   "execution_count": 23,
   "metadata": {},
   "outputs": [
    {
     "data": {
      "text/plain": [
       "0      Passenger\n",
       "1      Passenger\n",
       "3      Passenger\n",
       "4      Passenger\n",
       "5      Passenger\n",
       "         ...    \n",
       "152    Passenger\n",
       "153    Passenger\n",
       "154    Passenger\n",
       "155    Passenger\n",
       "156    Passenger\n",
       "Name: Vehicle type, Length: 156, dtype: object"
      ]
     },
     "execution_count": 23,
     "metadata": {},
     "output_type": "execute_result"
    }
   ],
   "source": [
    "df['Vehicle type']"
   ]
  },
  {
   "cell_type": "code",
   "execution_count": 24,
   "metadata": {},
   "outputs": [],
   "source": [
    "df.to_csv('Modified_car.csv')"
   ]
  }
 ],
 "metadata": {
  "kernelspec": {
   "display_name": "Python 3",
   "language": "python",
   "name": "python3"
  },
  "language_info": {
   "codemirror_mode": {
    "name": "ipython",
    "version": 3
   },
   "file_extension": ".py",
   "mimetype": "text/x-python",
   "name": "python",
   "nbconvert_exporter": "python",
   "pygments_lexer": "ipython3",
   "version": "3.7.4"
  }
 },
 "nbformat": 4,
 "nbformat_minor": 2
}

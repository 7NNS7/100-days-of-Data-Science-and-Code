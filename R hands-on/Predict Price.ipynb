{
 "cells": [
  {
   "cell_type": "code",
   "execution_count": 1,
   "metadata": {},
   "outputs": [],
   "source": [
    "df <- read.csv('Clothing.csv')"
   ]
  },
  {
   "cell_type": "code",
   "execution_count": 2,
   "metadata": {},
   "outputs": [
    {
     "data": {
      "text/html": [
       "<table>\n",
       "<thead><tr><th scope=col>tsale</th><th scope=col>sales</th><th scope=col>margin</th><th scope=col>nown</th><th scope=col>nfull</th><th scope=col>npart</th><th scope=col>naux</th><th scope=col>hoursw</th><th scope=col>hourspw</th><th scope=col>inv1</th><th scope=col>inv2</th><th scope=col>ssize</th><th scope=col>start</th></tr></thead>\n",
       "<tbody>\n",
       "\t<tr><td> 750000  </td><td> 4411.765</td><td>41       </td><td>1        </td><td>1.0000   </td><td>1.0000   </td><td>1.5357   </td><td> 76      </td><td>16.75596 </td><td> 17166.67</td><td>27177.04 </td><td>170      </td><td>1984     </td></tr>\n",
       "\t<tr><td>1926395  </td><td> 4280.878</td><td>39       </td><td>2        </td><td>2.0000   </td><td>3.0000   </td><td>1.5357   </td><td>192      </td><td>22.49376 </td><td> 17166.67</td><td>27177.04 </td><td>450      </td><td>1972     </td></tr>\n",
       "\t<tr><td>1250000  </td><td> 4166.667</td><td>40       </td><td>1        </td><td>2.0000   </td><td>2.2222   </td><td>1.4091   </td><td>114      </td><td>17.19120 </td><td>292857.20</td><td>71570.55 </td><td>300      </td><td>1952     </td></tr>\n",
       "\t<tr><td> 694227  </td><td> 2670.104</td><td>40       </td><td>1        </td><td>1.0000   </td><td>1.2833   </td><td>1.3673   </td><td>100      </td><td>21.50260 </td><td> 22207.04</td><td>15000.00 </td><td>260      </td><td>1966     </td></tr>\n",
       "\t<tr><td> 750000  </td><td>15000.000</td><td>44       </td><td>2        </td><td>1.9556   </td><td>1.2833   </td><td>1.3673   </td><td>104      </td><td>15.74279 </td><td> 22207.04</td><td>10000.00 </td><td> 50      </td><td>1996     </td></tr>\n",
       "\t<tr><td> 400000  </td><td> 4444.444</td><td>41       </td><td>2        </td><td>1.9556   </td><td>1.2833   </td><td>1.3673   </td><td> 72      </td><td>10.89885 </td><td> 22207.04</td><td>22859.85 </td><td> 90      </td><td>1947     </td></tr>\n",
       "</tbody>\n",
       "</table>\n"
      ],
      "text/latex": [
       "\\begin{tabular}{r|lllllllllllll}\n",
       " tsale & sales & margin & nown & nfull & npart & naux & hoursw & hourspw & inv1 & inv2 & ssize & start\\\\\n",
       "\\hline\n",
       "\t  750000   &  4411.765 & 41        & 1         & 1.0000    & 1.0000    & 1.5357    &  76       & 16.75596  &  17166.67 & 27177.04  & 170       & 1984     \\\\\n",
       "\t 1926395   &  4280.878 & 39        & 2         & 2.0000    & 3.0000    & 1.5357    & 192       & 22.49376  &  17166.67 & 27177.04  & 450       & 1972     \\\\\n",
       "\t 1250000   &  4166.667 & 40        & 1         & 2.0000    & 2.2222    & 1.4091    & 114       & 17.19120  & 292857.20 & 71570.55  & 300       & 1952     \\\\\n",
       "\t  694227   &  2670.104 & 40        & 1         & 1.0000    & 1.2833    & 1.3673    & 100       & 21.50260  &  22207.04 & 15000.00  & 260       & 1966     \\\\\n",
       "\t  750000   & 15000.000 & 44        & 2         & 1.9556    & 1.2833    & 1.3673    & 104       & 15.74279  &  22207.04 & 10000.00  &  50       & 1996     \\\\\n",
       "\t  400000   &  4444.444 & 41        & 2         & 1.9556    & 1.2833    & 1.3673    &  72       & 10.89885  &  22207.04 & 22859.85  &  90       & 1947     \\\\\n",
       "\\end{tabular}\n"
      ],
      "text/markdown": [
       "\n",
       "| tsale | sales | margin | nown | nfull | npart | naux | hoursw | hourspw | inv1 | inv2 | ssize | start |\n",
       "|---|---|---|---|---|---|---|---|---|---|---|---|---|\n",
       "|  750000   |  4411.765 | 41        | 1         | 1.0000    | 1.0000    | 1.5357    |  76       | 16.75596  |  17166.67 | 27177.04  | 170       | 1984      |\n",
       "| 1926395   |  4280.878 | 39        | 2         | 2.0000    | 3.0000    | 1.5357    | 192       | 22.49376  |  17166.67 | 27177.04  | 450       | 1972      |\n",
       "| 1250000   |  4166.667 | 40        | 1         | 2.0000    | 2.2222    | 1.4091    | 114       | 17.19120  | 292857.20 | 71570.55  | 300       | 1952      |\n",
       "|  694227   |  2670.104 | 40        | 1         | 1.0000    | 1.2833    | 1.3673    | 100       | 21.50260  |  22207.04 | 15000.00  | 260       | 1966      |\n",
       "|  750000   | 15000.000 | 44        | 2         | 1.9556    | 1.2833    | 1.3673    | 104       | 15.74279  |  22207.04 | 10000.00  |  50       | 1996      |\n",
       "|  400000   |  4444.444 | 41        | 2         | 1.9556    | 1.2833    | 1.3673    |  72       | 10.89885  |  22207.04 | 22859.85  |  90       | 1947      |\n",
       "\n"
      ],
      "text/plain": [
       "  tsale   sales     margin nown nfull  npart  naux   hoursw hourspw  inv1     \n",
       "1  750000  4411.765 41     1    1.0000 1.0000 1.5357  76    16.75596  17166.67\n",
       "2 1926395  4280.878 39     2    2.0000 3.0000 1.5357 192    22.49376  17166.67\n",
       "3 1250000  4166.667 40     1    2.0000 2.2222 1.4091 114    17.19120 292857.20\n",
       "4  694227  2670.104 40     1    1.0000 1.2833 1.3673 100    21.50260  22207.04\n",
       "5  750000 15000.000 44     2    1.9556 1.2833 1.3673 104    15.74279  22207.04\n",
       "6  400000  4444.444 41     2    1.9556 1.2833 1.3673  72    10.89885  22207.04\n",
       "  inv2     ssize start\n",
       "1 27177.04 170   1984 \n",
       "2 27177.04 450   1972 \n",
       "3 71570.55 300   1952 \n",
       "4 15000.00 260   1966 \n",
       "5 10000.00  50   1996 \n",
       "6 22859.85  90   1947 "
      ]
     },
     "metadata": {},
     "output_type": "display_data"
    }
   ],
   "source": [
    "head(df)"
   ]
  },
  {
   "cell_type": "code",
   "execution_count": 12,
   "metadata": {},
   "outputs": [
    {
     "data": {
      "text/html": [
       "833584.2125"
      ],
      "text/latex": [
       "833584.2125"
      ],
      "text/markdown": [
       "833584.2125"
      ],
      "text/plain": [
       "[1] 833584.2"
      ]
     },
     "metadata": {},
     "output_type": "display_data"
    }
   ],
   "source": [
    "mean(df$tsale)"
   ]
  },
  {
   "cell_type": "code",
   "execution_count": 13,
   "metadata": {},
   "outputs": [
    {
     "data": {
      "text/html": [
       "694227"
      ],
      "text/latex": [
       "694227"
      ],
      "text/markdown": [
       "694227"
      ],
      "text/plain": [
       "[1] 694227"
      ]
     },
     "metadata": {},
     "output_type": "display_data"
    }
   ],
   "source": [
    "median(df$tsale)"
   ]
  },
  {
   "cell_type": "code",
   "execution_count": 6,
   "metadata": {},
   "outputs": [],
   "source": [
    "getmode <- function(v) {\n",
    "   uniqv <- unique(v)\n",
    "   uniqv[which.max(tabulate(match(v, uniqv)))]\n",
    "}"
   ]
  },
  {
   "cell_type": "code",
   "execution_count": 14,
   "metadata": {},
   "outputs": [
    {
     "data": {
      "text/html": [
       "976817"
      ],
      "text/latex": [
       "976817"
      ],
      "text/markdown": [
       "976817"
      ],
      "text/plain": [
       "[1] 976817"
      ]
     },
     "metadata": {},
     "output_type": "display_data"
    }
   ],
   "source": [
    "getmode(df$tsale)"
   ]
  },
  {
   "cell_type": "code",
   "execution_count": 15,
   "metadata": {},
   "outputs": [
    {
     "data": {
      "image/png": "[encoded data removed]",
      "text/plain": [
       "Plot with title “BoxPLot of sales”"
      ]
     },
     "metadata": {},
     "output_type": "display_data"
    }
   ],
   "source": [
    "boxplot(df$tsale, main=\"BoxPLot of sales\")"
   ]
  },
  {
   "cell_type": "code",
   "execution_count": 11,
   "metadata": {},
   "outputs": [
    {
     "data": {
      "text/html": [
       "0.709196302483835"
      ],
      "text/latex": [
       "0.709196302483835"
      ],
      "text/markdown": [
       "0.709196302483835"
      ],
      "text/plain": [
       "[1] 0.7091963"
      ]
     },
     "metadata": {},
     "output_type": "display_data"
    }
   ],
   "source": [
    "cor(df$hoursw,df$tsale)"
   ]
  },
  {
   "cell_type": "code",
   "execution_count": 16,
   "metadata": {},
   "outputs": [],
   "source": [
    " linearModel <- lm(tsale ~ hoursw,data = df)"
   ]
  },
  {
   "cell_type": "code",
   "execution_count": 17,
   "metadata": {},
   "outputs": [
    {
     "name": "stdout",
     "output_type": "stream",
     "text": [
      "\n",
      "Call:\n",
      "lm(formula = tsale ~ hoursw, data = df)\n",
      "\n",
      "Coefficients:\n",
      "(Intercept)       hoursw  \n",
      "      55664         6422  \n",
      "\n"
     ]
    }
   ],
   "source": [
    "print(linearModel)"
   ]
  },
  {
   "cell_type": "code",
   "execution_count": 18,
   "metadata": {},
   "outputs": [],
   "source": [
    "# Create Training and Test data -\n",
    "set.seed(100)  # setting seed to reproduce results of random sampling\n",
    "trainingRowIndex <- sample(1:nrow(df), 0.8*nrow(df))  # row indices for training data\n",
    "trainingData <- df[trainingRowIndex, ]  # model training data\n",
    "testData  <- df[-trainingRowIndex, ]   # test data"
   ]
  },
  {
   "cell_type": "code",
   "execution_count": 19,
   "metadata": {},
   "outputs": [],
   "source": [
    "lmMod <- lm(tsale ~ hoursw, data=trainingData)  # build the model\n",
    "distPred <- predict(lmMod, testData) "
   ]
  },
  {
   "cell_type": "code",
   "execution_count": 20,
   "metadata": {},
   "outputs": [],
   "source": [
    "actuals_preds <- data.frame(cbind(actuals=testData$tsale, predicteds=distPred))"
   ]
  },
  {
   "cell_type": "code",
   "execution_count": 23,
   "metadata": {},
   "outputs": [],
   "source": [
    "min_max_accuracy <- mean(apply(actuals_preds, 1, min) / apply(actuals_preds, 1, max)) "
   ]
  },
  {
   "cell_type": "code",
   "execution_count": 24,
   "metadata": {},
   "outputs": [
    {
     "data": {
      "text/html": [
       "0.736532999546949"
      ],
      "text/latex": [
       "0.736532999546949"
      ],
      "text/markdown": [
       "0.736532999546949"
      ],
      "text/plain": [
       "[1] 0.736533"
      ]
     },
     "metadata": {},
     "output_type": "display_data"
    }
   ],
   "source": [
    "min_max_accuracy"
   ]
  }
 ],
 "metadata": {
  "kernelspec": {
   "display_name": "R",
   "language": "R",
   "name": "ir"
  },
  "language_info": {
   "codemirror_mode": "r",
   "file_extension": ".r",
   "mimetype": "text/x-r-source",
   "name": "R",
   "pygments_lexer": "r",
   "version": "3.6.1"
  }
 },
 "nbformat": 4,
 "nbformat_minor": 4
}
